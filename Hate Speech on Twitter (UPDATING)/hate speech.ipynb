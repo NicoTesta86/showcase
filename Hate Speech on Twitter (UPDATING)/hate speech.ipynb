{
 "cells": [
  {
   "cell_type": "markdown",
   "id": "634b54cf-56d2-4e29-87ce-9c9b16dacc37",
   "metadata": {},
   "source": [
    "o align with your project's objectives on analyzing tweet classifications for hate speech, offensive language, and neutral content, let's outline a structured approach to proceed with the data you've provided:\n",
    "\n",
    "- Data Exploration:\n",
    "        Load the dataset to understand its structure (columns, number of records).\n",
    "        Identify if any preprocessing is required (missing values, text cleaning).\n",
    "\n",
    "- Data Preprocessing:\n",
    "        Clean the tweets (removing special characters, URLs, mentions, hashtags).\n",
    "        Handle missing values, if any.\n",
    "        Encode the categories (if not already encoded).\n",
    "\n",
    "- Exploratory Data Analysis (EDA):\n",
    "        Distribution of the categories (hate speech, offensive language, neutral).\n",
    "        Word frequency analysis to identify common words across different categories.\n",
    "        Any other insights through visualization (word clouds, etc.).\n",
    "\n",
    "- Model Preparation:\n",
    "        Split the dataset into training and testing sets.\n",
    "        Vectorize the tweets for model input (TF-IDF, CountVectorizer, etc.).\n",
    "\n",
    "- Model Building:\n",
    "        Implement a basic classification model (Logistic Regression, Naive Bayes, etc.).\n",
    "        Train the model on the training set.\n",
    "\n",
    "- Evaluation:\n",
    "        Evaluate the model's performance on the testing set using appropriate metrics (accuracy, precision, recall, F1-score).\n",
    "\n",
    "- Recommendations and Conclusion:\n",
    "        Provide insights gained from the analysis and model.\n",
    "        Recommend strategies for improving model performance and for future research.\n"
   ]
  },
  {
   "cell_type": "code",
   "execution_count": 3,
   "id": "d530df23-f3d7-4542-b56d-92d1dbe24003",
   "metadata": {
    "scrolled": true
   },
   "outputs": [
    {
     "name": "stdout",
     "output_type": "stream",
     "text": [
      "<class 'pandas.core.frame.DataFrame'>\n",
      "RangeIndex: 24783 entries, 0 to 24782\n",
      "Data columns (total 6 columns):\n",
      " #   Column                    Non-Null Count  Dtype \n",
      "---  ------                    --------------  ----- \n",
      " 0   count                     24783 non-null  int64 \n",
      " 1   hate_speech_count         24783 non-null  int64 \n",
      " 2   offensive_language_count  24783 non-null  int64 \n",
      " 3   neither_count             24783 non-null  int64 \n",
      " 4   class                     24783 non-null  int64 \n",
      " 5   tweet                     24783 non-null  object\n",
      "dtypes: int64(5), object(1)\n",
      "memory usage: 1.1+ MB\n"
     ]
    },
    {
     "data": {
      "text/plain": [
       "(   count  hate_speech_count  offensive_language_count  neither_count  class  \\\n",
       " 0      3                  0                         0              3      2   \n",
       " 1      3                  0                         3              0      1   \n",
       " 2      3                  0                         3              0      1   \n",
       " 3      3                  0                         2              1      1   \n",
       " 4      6                  0                         6              0      1   \n",
       " \n",
       "                                                tweet  \n",
       " 0  !!! RT @mayasolovely: As a woman you shouldn't...  \n",
       " 1  !!!!! RT @mleew17: boy dats cold...tyga dwn ba...  \n",
       " 2  !!!!!!! RT @UrKindOfBrand Dawg!!!! RT @80sbaby...  \n",
       " 3  !!!!!!!!! RT @C_G_Anderson: @viva_based she lo...  \n",
       " 4  !!!!!!!!!!!!! RT @ShenikaRoberts: The shit you...  ,\n",
       " None)"
      ]
     },
     "execution_count": 3,
     "metadata": {},
     "output_type": "execute_result"
    }
   ],
   "source": [
    "import pandas as pd\n",
    "\n",
    "# Load the dataset\n",
    "file_path = 'train 2.csv'\n",
    "data = pd.read_csv(file_path)\n",
    "\n",
    "# Display the first few rows of the dataset to understand its structure\n",
    "data.head(), data.info()\n"
   ]
  },
  {
   "cell_type": "markdown",
   "id": "90ce2899-6aed-4a59-b75a-aa4c3c9f2725",
   "metadata": {},
   "source": [
    "Let's start with step 1, Data Exploration, by loading the dataset to understand its structure. I'll proceed with loading and inspecting your file now.\n",
    "\n",
    "The dataset comprises 24,783 entries with the following columns:\n",
    "\n",
    "- count: Number of users who coded each tweet (not directly relevant to classification).\n",
    "- hate_speech_count: Number of users who classified the tweet as hate speech.\n",
    "- offensive_language_count: Number of users who classified the tweet as offensive language.\n",
    "- neither_count: Number of users who classified the tweet as neither hate speech nor offensive language.\n",
    "- class: The final classification of the tweet (likely based on majority voting):\n",
    "It seems like this might be the target variable, but the mapping of numerical values to categories isn't directly provided in the data preview.\n",
    "- tweet: The text content of the tweet.\n",
    "\n",
    "Given this structure, the primary focus for analysis and model building will be on the tweet column as the input and the class column as the target variable. The dataset appears to be well-structured without missing values in these key columns.\n",
    "\n",
    "The next steps involve data preprocessing to clean the tweets and prepare them for analysis and modeling. Following that, we can perform exploratory data analysis to gain insights into the distribution of categories and common words used in different types of tweets."
   ]
  },
  {
   "cell_type": "code",
   "execution_count": 4,
   "id": "5aff4175-75b3-467e-bd5a-2bfc8207bdcc",
   "metadata": {},
   "outputs": [
    {
     "data": {
      "text/html": [
       "<div>\n",
       "<style scoped>\n",
       "    .dataframe tbody tr th:only-of-type {\n",
       "        vertical-align: middle;\n",
       "    }\n",
       "\n",
       "    .dataframe tbody tr th {\n",
       "        vertical-align: top;\n",
       "    }\n",
       "\n",
       "    .dataframe thead th {\n",
       "        text-align: right;\n",
       "    }\n",
       "</style>\n",
       "<table border=\"1\" class=\"dataframe\">\n",
       "  <thead>\n",
       "    <tr style=\"text-align: right;\">\n",
       "      <th></th>\n",
       "      <th>tweet</th>\n",
       "      <th>cleaned_tweet</th>\n",
       "    </tr>\n",
       "  </thead>\n",
       "  <tbody>\n",
       "    <tr>\n",
       "      <th>0</th>\n",
       "      <td>!!! RT @mayasolovely: As a woman you shouldn't...</td>\n",
       "      <td>rt  as a woman you shouldnt complain about cl...</td>\n",
       "    </tr>\n",
       "    <tr>\n",
       "      <th>1</th>\n",
       "      <td>!!!!! RT @mleew17: boy dats cold...tyga dwn ba...</td>\n",
       "      <td>rt  boy dats coldtyga dwn bad for cuffin dat ...</td>\n",
       "    </tr>\n",
       "    <tr>\n",
       "      <th>2</th>\n",
       "      <td>!!!!!!! RT @UrKindOfBrand Dawg!!!! RT @80sbaby...</td>\n",
       "      <td>rt  dawg rt  you ever fuck a bitch and she st...</td>\n",
       "    </tr>\n",
       "    <tr>\n",
       "      <th>3</th>\n",
       "      <td>!!!!!!!!! RT @C_G_Anderson: @viva_based she lo...</td>\n",
       "      <td>rt   she look like a tranny</td>\n",
       "    </tr>\n",
       "    <tr>\n",
       "      <th>4</th>\n",
       "      <td>!!!!!!!!!!!!! RT @ShenikaRoberts: The shit you...</td>\n",
       "      <td>rt  the shit you hear about me might be true ...</td>\n",
       "    </tr>\n",
       "  </tbody>\n",
       "</table>\n",
       "</div>"
      ],
      "text/plain": [
       "                                               tweet  \\\n",
       "0  !!! RT @mayasolovely: As a woman you shouldn't...   \n",
       "1  !!!!! RT @mleew17: boy dats cold...tyga dwn ba...   \n",
       "2  !!!!!!! RT @UrKindOfBrand Dawg!!!! RT @80sbaby...   \n",
       "3  !!!!!!!!! RT @C_G_Anderson: @viva_based she lo...   \n",
       "4  !!!!!!!!!!!!! RT @ShenikaRoberts: The shit you...   \n",
       "\n",
       "                                       cleaned_tweet  \n",
       "0   rt  as a woman you shouldnt complain about cl...  \n",
       "1   rt  boy dats coldtyga dwn bad for cuffin dat ...  \n",
       "2   rt  dawg rt  you ever fuck a bitch and she st...  \n",
       "3                        rt   she look like a tranny  \n",
       "4   rt  the shit you hear about me might be true ...  "
      ]
     },
     "execution_count": 4,
     "metadata": {},
     "output_type": "execute_result"
    }
   ],
   "source": [
    "import re\n",
    "\n",
    "def clean_tweet(tweet):\n",
    "    \"\"\"\n",
    "    Function to clean tweet text by removing links, special characters, and usernames.\n",
    "    \"\"\"\n",
    "    tweet = re.sub(r\"http\\S+|www\\S+|https\\S+\", '', tweet, flags=re.MULTILINE)  # Remove URLs\n",
    "    tweet = re.sub(r'\\@\\w+|\\#','', tweet)  # Remove @mentions and hashtags\n",
    "    tweet = re.sub(r'[^\\w\\s]','', tweet)  # Remove punctuation\n",
    "    tweet = tweet.lower()  # Convert to lowercase\n",
    "    return tweet\n",
    "\n",
    "# Apply the cleaning function to the tweet column\n",
    "data['cleaned_tweet'] = data['tweet'].apply(clean_tweet)\n",
    "\n",
    "# Display the first few rows to verify the cleaning\n",
    "data[['tweet', 'cleaned_tweet']].head()\n"
   ]
  },
  {
   "cell_type": "markdown",
   "id": "0691a732-748f-4102-a1d7-490a63187ef6",
   "metadata": {},
   "source": [
    "Moving into the Exploratory Data Analysis (EDA) phase, we'll focus on understanding the distribution of the different categories within the dataset and identify common words or phrases associated with each category. This will involve:\n",
    "\n",
    "- Category Distribution: Analyzing how many tweets fall into each category (hate speech, offensive language, neutral).\n",
    "- Word Frequency Analysis: Identifying the most common words used in each category to spot any trends or patterns.\n",
    "\n",
    "Let's start with the category distribution to see how the tweets are classified."
   ]
  },
  {
   "cell_type": "code",
   "execution_count": 5,
   "id": "5663bfbb-7f92-42bd-ae79-94a1aeed53a6",
   "metadata": {},
   "outputs": [
    {
     "data": {
      "image/png": "[encoded data removed]",
      "text/plain": [
       "<Figure size 1000x600 with 1 Axes>"
      ]
     },
     "metadata": {},
     "output_type": "display_data"
    },
    {
     "data": {
      "text/plain": [
       "class\n",
       "1    19190\n",
       "2     4163\n",
       "0     1430\n",
       "Name: count, dtype: int64"
      ]
     },
     "execution_count": 5,
     "metadata": {},
     "output_type": "execute_result"
    }
   ],
   "source": [
    "import matplotlib.pyplot as plt\n",
    "\n",
    "# Category distribution\n",
    "category_counts = data['class'].value_counts()\n",
    "\n",
    "# Plotting\n",
    "plt.figure(figsize=(10, 6))\n",
    "category_counts.plot(kind='bar')\n",
    "plt.title('Distribution of Categories')\n",
    "plt.xlabel('Category')\n",
    "plt.ylabel('Number of Tweets')\n",
    "plt.xticks(ticks=[0, 1, 2], labels=['Offensive Language', 'Hate Speech', 'Neutral'], rotation=45)\n",
    "plt.grid(axis='y', linestyle='--')\n",
    "\n",
    "plt.show()\n",
    "\n",
    "category_counts\n"
   ]
  },
  {
   "cell_type": "markdown",
   "id": "4782efd3-9246-4ae7-85de-506d733bb963",
   "metadata": {},
   "source": [
    "The distribution of categories in the dataset is as follows:\n",
    "\n",
    "- Offensive Language: 19,190 tweets\n",
    "- Neutral: 4,163 tweets\n",
    "- Hate Speech: 1,430 tweets\n",
    "\n",
    "It's clear from this distribution that the majority of the tweets are classified as offensive language, with neutral content being the second most common and hate speech being the least frequent category.\n",
    "\n",
    "Next, we'll conduct a word frequency analysis to identify the most common words used in each category. This involves extracting words from tweets, calculating their frequency, and then visualizing the top words for each category to observe any distinct patterns or differences. Let's proceed with this analysis"
   ]
  },
  {
   "cell_type": "code",
   "execution_count": 6,
   "id": "7a72fb81-8f58-4b80-9f74-c1d9ceb39893",
   "metadata": {},
   "outputs": [
    {
     "data": {
      "text/plain": [
       "{'Hate Speech': [('you', 434),\n",
       "  ('the', 387),\n",
       "  ('rt', 324),\n",
       "  ('to', 323),\n",
       "  ('and', 233),\n",
       "  ('bitch', 207),\n",
       "  ('is', 205),\n",
       "  ('faggot', 186),\n",
       "  ('that', 178),\n",
       "  ('like', 166)],\n",
       " 'Offensive Language': [('bitch', 7905),\n",
       "  ('rt', 5954),\n",
       "  ('you', 5077),\n",
       "  ('the', 4877),\n",
       "  ('to', 3981),\n",
       "  ('my', 2997),\n",
       "  ('bitches', 2989),\n",
       "  ('that', 2916),\n",
       "  ('and', 2848),\n",
       "  ('like', 2293)],\n",
       " 'Neutral': [('the', 1904),\n",
       "  ('rt', 1312),\n",
       "  ('to', 1028),\n",
       "  ('and', 869),\n",
       "  ('in', 732),\n",
       "  ('of', 686),\n",
       "  ('trash', 672),\n",
       "  ('is', 663),\n",
       "  ('you', 564),\n",
       "  ('for', 503)]}"
      ]
     },
     "execution_count": 6,
     "metadata": {},
     "output_type": "execute_result"
    }
   ],
   "source": [
    "from sklearn.feature_extraction.text import CountVectorizer\n",
    "import numpy as np\n",
    "\n",
    "# Function to get top n words\n",
    "def get_top_n_words(corpus, n=None):\n",
    "    vec = CountVectorizer().fit(corpus)\n",
    "    bag_of_words = vec.transform(corpus)\n",
    "    sum_words = bag_of_words.sum(axis=0)\n",
    "    words_freq = [(word, sum_words[0, idx]) for word, idx in vec.vocabulary_.items()]\n",
    "    words_freq = sorted(words_freq, key=lambda x: x[1], reverse=True)\n",
    "    return words_freq[:n]\n",
    "\n",
    "# Top 10 words in each category\n",
    "categories = ['Hate Speech', 'Offensive Language', 'Neutral']\n",
    "top_words_by_category = {}\n",
    "\n",
    "for category in range(3):\n",
    "    corpus = data[data['class'] == category]['cleaned_tweet']\n",
    "    top_words_by_category[categories[category]] = get_top_n_words(corpus, 10)\n",
    "\n",
    "top_words_by_category\n"
   ]
  },
  {
   "cell_type": "markdown",
   "id": "b7fac225-8a1a-4881-b205-4070f1bd7377",
   "metadata": {},
   "source": [
    "Hate Speech\n",
    "\n",
    "- Most frequent words include \"you\", \"the\", \"rt\" (retweet), \"to\", \"and\", with specific derogatory terms like \"bitch\" and \"faggot\" appearing prominently.\n",
    "\n",
    "Offensive Language\n",
    "\n",
    "- \"Bitch\" is the most common word by a significant margin, followed by \"rt\" (retweet), \"you\", \"the\", and \"to\". Words like \"bitches\" also feature highly, indicating a pattern of offensive language targeting individuals.\n",
    "\n",
    "Neutral\n",
    "\n",
    "- Common words are more generic and less aggressive, such as \"the\", \"rt\" (retweet), \"to\", \"and\", \"in\", \"of\", with \"trash\" being the most context-specific term that might be related to criticism or negative opinions rather than direct offense or hate speech.\n",
    "\n",
    "The presence of \"rt\" (retweet) across all categories suggests a high level of engagement with content that users feel strongly about, whether in agreement or opposition.\n",
    "\n",
    "This analysis provides a foundation for understanding the linguistic features that characterize each category. These insights can be crucial for refining natural language processing models aimed at identifying and classifying such content on social media."
   ]
  },
  {
   "cell_type": "markdown",
   "id": "519e5393-f7cb-4dce-82d4-cb4449a860a7",
   "metadata": {},
   "source": [
    "Given the insights from the exploratory data analysis, the next logical step is to prepare the data for modeling. This preparation involves several key tasks:\n",
    "\n",
    "- Vectorization of Tweets: Converting text data into a format that can be used for machine learning modeling, typically using TF-IDF (Term Frequency-Inverse Document Frequency) or CountVectorizer.\n",
    "- Splitting the Data: Dividing the dataset into training and testing sets to evaluate the performance of the model.\n",
    "\n",
    "For this analysis, let's use TF-IDF vectorization, which not only counts the number of times a word appears in a document but also adjusts for the frequency of the word across all documents. This helps in giving more importance to words that are unique to specific documents.\n",
    "\n",
    "We'll then proceed to build a basic model using these vectorized features. A logistic regression model can be a good starting point due to its simplicity and efficiency in binary and multi-class classification problems.\n",
    "\n",
    "Let's start by vectorizing the tweets and splitting the data.The tweets have been successfully vectorized using TF-IDF, limiting to the top 1,000 features for efficiency. The dataset has been split into training and testing sets, with 19,826 samples for training and 4,957 samples for testing.\n",
    "\n",
    "Now that the data is prepared, we'll proceed with building a basic classification model. As mentioned, we'll start with a logistic regression model, which is a good baseline for text classification tasks. Let's train the model on the training set and then evaluate its performance on the testing set"
   ]
  },
  {
   "cell_type": "code",
   "execution_count": 8,
   "id": "b4ea8b06-89b9-4474-a955-022e73d58f76",
   "metadata": {},
   "outputs": [
    {
     "data": {
      "text/plain": [
       "((19826, 1000), (4957, 1000))"
      ]
     },
     "execution_count": 8,
     "metadata": {},
     "output_type": "execute_result"
    }
   ],
   "source": [
    "from sklearn.feature_extraction.text import TfidfVectorizer\n",
    "from sklearn.model_selection import train_test_split\n",
    "\n",
    "# Vectorizing the tweets using TF-IDF\n",
    "tfidf_vectorizer = TfidfVectorizer(max_features=1000)  # Limiting to 1000 features for efficiency\n",
    "X = tfidf_vectorizer.fit_transform(data['cleaned_tweet'])\n",
    "\n",
    "# The target variable\n",
    "y = data['class']\n",
    "\n",
    "# Splitting the data into training and testing sets\n",
    "X_train, X_test, y_train, y_test = train_test_split(X, y, test_size=0.2, random_state=42)\n",
    "\n",
    "X_train.shape, X_test.shape\n"
   ]
  },
  {
   "cell_type": "markdown",
   "id": "1b9a7308-b5cc-4488-b928-171fe5be1271",
   "metadata": {},
   "source": [
    "The tweets have been successfully vectorized using TF-IDF, limiting to the top 1,000 features for efficiency. The dataset has been split into training and testing sets, with 19,826 samples for training and 4,957 samples for testing.\n",
    "\n",
    "Now that the data is prepared, we'll proceed with building a basic classification model. As mentioned, we'll start with a logistic regression model, which is a good baseline for text classification tasks. Let's train the model on the training set and then evaluate its performance on the testing set"
   ]
  },
  {
   "cell_type": "code",
   "execution_count": 10,
   "id": "3f31bb52-cf84-4fc7-9167-4e97f5b66859",
   "metadata": {},
   "outputs": [
    {
     "data": {
      "text/plain": [
       "(0.8858180351018762,\n",
       " '              precision    recall  f1-score   support\\n\\n           0       0.48      0.18      0.26       290\\n           1       0.91      0.96      0.93      3832\\n           2       0.82      0.80      0.81       835\\n\\n    accuracy                           0.89      4957\\n   macro avg       0.74      0.65      0.67      4957\\nweighted avg       0.87      0.89      0.87      4957\\n')"
      ]
     },
     "execution_count": 10,
     "metadata": {},
     "output_type": "execute_result"
    }
   ],
   "source": [
    "from sklearn.linear_model import LogisticRegression\n",
    "from sklearn.metrics import accuracy_score, classification_report\n",
    "\n",
    "# Initializing and training the logistic regression model\n",
    "lr_model = LogisticRegression(max_iter=1000)  # Increased max_iter for convergence\n",
    "lr_model.fit(X_train, y_train)\n",
    "\n",
    "# Predicting on the test set\n",
    "y_pred = lr_model.predict(X_test)\n",
    "\n",
    "# Evaluating the model\n",
    "accuracy = accuracy_score(y_test, y_pred)\n",
    "classification_rep = classification_report(y_test, y_pred)\n",
    "\n",
    "accuracy, classification_rep\n"
   ]
  },
  {
   "cell_type": "markdown",
   "id": "7df35f65-9da7-47af-819a-4306005c2413",
   "metadata": {},
   "source": [
    "The logistic regression model achieved an accuracy of approximately 88.6% on the testing set, which is a promising result for a baseline model. Here's a detailed breakdown of the model's performance across the different categories:\n",
    "\n",
    "- Hate Speech (0): Precision of 0.48, Recall of 0.18, and F1-score of 0.26.\n",
    "- Offensive Language (1): Precision of 0.91, Recall of 0.96, and F1-score of 0.93.\n",
    "- Neutral (2): Precision of 0.82, Recall of 0.80, and F1-score of 0.81.\n",
    "\n",
    "The model performs well in classifying offensive language and neutral tweets, with high precision, recall, and F1-scores. However, it struggles with accurately classifying hate speech, as indicated by lower precision and recall scores for that category. This could be due to the relatively smaller number of hate speech examples in the dataset, which makes it more challenging for the model to learn distinguishing features for this category.\n",
    "\n",
    "Improving the model could involve several strategies, such as:\n",
    "\n",
    "- Balancing the dataset: Using techniques like oversampling the minority class or undersampling the majority class.\n",
    "- Feature engineering: Including more features or using different text representation techniques.\n",
    "- Model complexity: Trying more complex models like support vector machines, decision trees, or deep learning models."
   ]
  },
  {
   "cell_type": "markdown",
   "id": "241a73b3-d421-4186-aee9-d3ae745fb0a9",
   "metadata": {},
   "source": [
    "To enhance the model's ability to classify tweets, especially improving its performance on the underrepresented categories like hate speech, let's explore a couple of improvement strategies:\n",
    "\n",
    "1. Balancing the Dataset: We can attempt to balance the classes through oversampling or undersampling techniques. Given the significant imbalance observed, oversampling the minority class (hate speech) or undersampling the majority class (offensive language) could help improve model sensitivity towards the underrepresented categories.\n",
    "\n",
    "2. Advanced Model: While logistic regression provided a good baseline, exploring more complex models could yield better performance. Models like Random Forest, Support Vector Machines (SVM), or even deep learning models like LSTM (Long Short-Term Memory) networks could capture more nuanced patterns in the data.\n",
    "\n",
    "Given the context and the available tools, we'll proceed with a simple yet effective approach to balance the dataset and then train a different model to see if we can improve upon the logistic regression baseline. Specifically, we'll use the Synthetic Minority Over-sampling Technique (SMOTE) to oversample the minority classes and then train a Random Forest classifier, which can handle non-linear relationships and interactions between features better than logistic regression.\n",
    "\n",
    "Let's start with the dataset balancing using SMOTE and then train the Random Forest model."
   ]
  },
  {
   "cell_type": "code",
   "execution_count": 11,
   "id": "7acc646e-a1ec-437b-8935-da24f5bd8573",
   "metadata": {},
   "outputs": [
    {
     "ename": "ModuleNotFoundError",
     "evalue": "No module named 'imblearn'",
     "output_type": "error",
     "traceback": [
      "\u001b[0;31m---------------------------------------------------------------------------\u001b[0m",
      "\u001b[0;31mModuleNotFoundError\u001b[0m                       Traceback (most recent call last)",
      "Cell \u001b[0;32mIn[11], line 1\u001b[0m\n\u001b[0;32m----> 1\u001b[0m \u001b[38;5;28;01mfrom\u001b[39;00m \u001b[38;5;21;01mimblearn\u001b[39;00m\u001b[38;5;21;01m.\u001b[39;00m\u001b[38;5;21;01mover_sampling\u001b[39;00m \u001b[38;5;28;01mimport\u001b[39;00m SMOTE\n\u001b[1;32m      2\u001b[0m \u001b[38;5;28;01mfrom\u001b[39;00m \u001b[38;5;21;01msklearn\u001b[39;00m\u001b[38;5;21;01m.\u001b[39;00m\u001b[38;5;21;01mensemble\u001b[39;00m \u001b[38;5;28;01mimport\u001b[39;00m RandomForestClassifier\n\u001b[1;32m      4\u001b[0m \u001b[38;5;66;03m# Applying SMOTE to balance the dataset\u001b[39;00m\n",
      "\u001b[0;31mModuleNotFoundError\u001b[0m: No module named 'imblearn'"
     ]
    }
   ],
   "source": [
    "from imblearn.over_sampling import SMOTE\n",
    "from sklearn.ensemble import RandomForestClassifier\n",
    "\n",
    "# Applying SMOTE to balance the dataset\n",
    "smote = SMOTE(random_state=42)\n",
    "X_train_resampled, y_train_resampled = smote.fit_resample(X_train, y_train)\n",
    "\n",
    "# Training a Random Forest classifier\n",
    "rf_model = RandomForestClassifier(random_state=42)\n",
    "rf_model.fit(X_train_resampled, y_train_resampled)\n",
    "\n",
    "# Predicting on the test set\n",
    "y_pred_rf = rf_model.predict(X_test)\n",
    "\n",
    "# Evaluating the Random Forest model\n",
    "accuracy_rf = accuracy_score(y_test, y_pred_rf)\n",
    "classification_rep_rf = classification_report(y_test, y_pred_rf)\n",
    "\n",
    "accuracy_rf, classification_rep_rf\n"
   ]
  },
  {
   "cell_type": "markdown",
   "id": "03e48b3b-f2d8-47a3-ad5a-57cb69a0c10c",
   "metadata": {},
   "source": [
    "It appears that the library needed for SMOTE (Synthetic Minority Over-sampling Technique), imblearn, is not available in this environment. Given this limitation, we can still proceed by trying a different machine learning model without balancing the dataset through oversampling.\n",
    "\n",
    "Let's train a Random Forest classifier with the original dataset. Random Forest is a robust and versatile model that can handle imbalanced data better than some other models due to its ensemble nature. We'll see if this model can improve upon the logistic regression performance, particularly for the underrepresented categories. Let's proceed with training a Random Forest model on the data."
   ]
  },
  {
   "cell_type": "code",
   "execution_count": null,
   "id": "7fc92bb6-df0c-4c55-b975-cba4a6bc2945",
   "metadata": {},
   "outputs": [],
   "source": []
  }
 ],
 "metadata": {
  "kernelspec": {
   "display_name": "Python 3 (ipykernel)",
   "language": "python",
   "name": "python3"
  },
  "language_info": {
   "codemirror_mode": {
    "name": "ipython",
    "version": 3
   },
   "file_extension": ".py",
   "mimetype": "text/x-python",
   "name": "python",
   "nbconvert_exporter": "python",
   "pygments_lexer": "ipython3",
   "version": "3.11.4"
  }
 },
 "nbformat": 4,
 "nbformat_minor": 5
}
