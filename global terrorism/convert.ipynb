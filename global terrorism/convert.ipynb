{
 "cells": [
  {
   "cell_type": "code",
   "execution_count": 4,
   "id": "29b1d886-47ce-4361-944b-1d5dddbf836b",
   "metadata": {},
   "outputs": [
    {
     "name": "stdout",
     "output_type": "stream",
     "text": [
      "Il foglio 'Combined raw' è stato salvato come 'Combined raw.csv'\n",
      "Il foglio 'Overall Scores' è stato salvato come 'Overall Scores.csv'\n",
      "Il foglio '2022' è stato salvato come '2022.csv'\n",
      "Il foglio '2021' è stato salvato come '2021.csv'\n",
      "Il foglio '2020' è stato salvato come '2020.csv'\n",
      "Il foglio '2019' è stato salvato come '2019.csv'\n",
      "Il foglio '2018' è stato salvato come '2018.csv'\n",
      "Il foglio '2017' è stato salvato come '2017.csv'\n",
      "Il foglio '2016' è stato salvato come '2016.csv'\n",
      "Il foglio '2015' è stato salvato come '2015.csv'\n",
      "Il foglio '2014' è stato salvato come '2014.csv'\n",
      "Il foglio '2013' è stato salvato come '2013.csv'\n",
      "Il foglio '2012' è stato salvato come '2012.csv'\n"
     ]
    }
   ],
   "source": [
    "import pandas as pd\n",
    "\n",
    "# Percorso del tuo file Excel\n",
    "excel_path = 'Global Terrorism Index 2023.xlsx'\n",
    "\n",
    "# Carica il file Excel per ottenere i nomi dei fogli\n",
    "xls = pd.ExcelFile(excel_path)\n",
    "\n",
    "# Itera su ogni foglio del file Excel\n",
    "for sheet_name in xls.sheet_names:\n",
    "    # Carica il foglio in un DataFrame\n",
    "    df = pd.read_excel(excel_path, sheet_name=sheet_name)\n",
    "    \n",
    "    # Costruisci il percorso del file CSV usando il nome del foglio\n",
    "    csv_path = f'{sheet_name}.csv'\n",
    "    \n",
    "    # Salva il DataFrame in un file CSV\n",
    "    df.to_csv(csv_path, index=False)\n",
    "    \n",
    "    print(f\"Il foglio '{sheet_name}' è stato salvato come '{csv_path}'\")\n",
    "\n"
   ]
  },
  {
   "cell_type": "code",
   "execution_count": null,
   "id": "a2703b3b-b47e-4da7-9899-f22b40b7fdce",
   "metadata": {},
   "outputs": [],
   "source": []
  }
 ],
 "metadata": {
  "kernelspec": {
   "display_name": "Python 3 (ipykernel)",
   "language": "python",
   "name": "python3"
  },
  "language_info": {
   "codemirror_mode": {
    "name": "ipython",
    "version": 3
   },
   "file_extension": ".py",
   "mimetype": "text/x-python",
   "name": "python",
   "nbconvert_exporter": "python",
   "pygments_lexer": "ipython3",
   "version": "3.11.4"
  }
 },
 "nbformat": 4,
 "nbformat_minor": 5
}
