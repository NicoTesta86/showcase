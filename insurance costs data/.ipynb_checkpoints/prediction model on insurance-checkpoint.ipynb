{
 "cells": [
  {
   "cell_type": "code",
   "execution_count": 2,
   "id": "e5343336-7651-4dc4-b41b-46721a8c2af2",
   "metadata": {},
   "outputs": [
    {
     "data": {
      "text/html": [
       "<div>\n",
       "<style scoped>\n",
       "    .dataframe tbody tr th:only-of-type {\n",
       "        vertical-align: middle;\n",
       "    }\n",
       "\n",
       "    .dataframe tbody tr th {\n",
       "        vertical-align: top;\n",
       "    }\n",
       "\n",
       "    .dataframe thead th {\n",
       "        text-align: right;\n",
       "    }\n",
       "</style>\n",
       "<table border=\"1\" class=\"dataframe\">\n",
       "  <thead>\n",
       "    <tr style=\"text-align: right;\">\n",
       "      <th></th>\n",
       "      <th>age</th>\n",
       "      <th>sex</th>\n",
       "      <th>bmi</th>\n",
       "      <th>children</th>\n",
       "      <th>smoker</th>\n",
       "      <th>region</th>\n",
       "      <th>charges</th>\n",
       "    </tr>\n",
       "  </thead>\n",
       "  <tbody>\n",
       "    <tr>\n",
       "      <th>0</th>\n",
       "      <td>19</td>\n",
       "      <td>female</td>\n",
       "      <td>27.900</td>\n",
       "      <td>0</td>\n",
       "      <td>yes</td>\n",
       "      <td>southwest</td>\n",
       "      <td>16884.92400</td>\n",
       "    </tr>\n",
       "    <tr>\n",
       "      <th>1</th>\n",
       "      <td>18</td>\n",
       "      <td>male</td>\n",
       "      <td>33.770</td>\n",
       "      <td>1</td>\n",
       "      <td>no</td>\n",
       "      <td>southeast</td>\n",
       "      <td>1725.55230</td>\n",
       "    </tr>\n",
       "    <tr>\n",
       "      <th>2</th>\n",
       "      <td>28</td>\n",
       "      <td>male</td>\n",
       "      <td>33.000</td>\n",
       "      <td>3</td>\n",
       "      <td>no</td>\n",
       "      <td>southeast</td>\n",
       "      <td>4449.46200</td>\n",
       "    </tr>\n",
       "    <tr>\n",
       "      <th>3</th>\n",
       "      <td>33</td>\n",
       "      <td>male</td>\n",
       "      <td>22.705</td>\n",
       "      <td>0</td>\n",
       "      <td>no</td>\n",
       "      <td>northwest</td>\n",
       "      <td>21984.47061</td>\n",
       "    </tr>\n",
       "    <tr>\n",
       "      <th>4</th>\n",
       "      <td>32</td>\n",
       "      <td>male</td>\n",
       "      <td>28.880</td>\n",
       "      <td>0</td>\n",
       "      <td>no</td>\n",
       "      <td>northwest</td>\n",
       "      <td>3866.85520</td>\n",
       "    </tr>\n",
       "    <tr>\n",
       "      <th>...</th>\n",
       "      <td>...</td>\n",
       "      <td>...</td>\n",
       "      <td>...</td>\n",
       "      <td>...</td>\n",
       "      <td>...</td>\n",
       "      <td>...</td>\n",
       "      <td>...</td>\n",
       "    </tr>\n",
       "    <tr>\n",
       "      <th>2767</th>\n",
       "      <td>47</td>\n",
       "      <td>female</td>\n",
       "      <td>45.320</td>\n",
       "      <td>1</td>\n",
       "      <td>no</td>\n",
       "      <td>southeast</td>\n",
       "      <td>8569.86180</td>\n",
       "    </tr>\n",
       "    <tr>\n",
       "      <th>2768</th>\n",
       "      <td>21</td>\n",
       "      <td>female</td>\n",
       "      <td>34.600</td>\n",
       "      <td>0</td>\n",
       "      <td>no</td>\n",
       "      <td>southwest</td>\n",
       "      <td>2020.17700</td>\n",
       "    </tr>\n",
       "    <tr>\n",
       "      <th>2769</th>\n",
       "      <td>19</td>\n",
       "      <td>male</td>\n",
       "      <td>26.030</td>\n",
       "      <td>1</td>\n",
       "      <td>yes</td>\n",
       "      <td>northwest</td>\n",
       "      <td>16450.89470</td>\n",
       "    </tr>\n",
       "    <tr>\n",
       "      <th>2770</th>\n",
       "      <td>23</td>\n",
       "      <td>male</td>\n",
       "      <td>18.715</td>\n",
       "      <td>0</td>\n",
       "      <td>no</td>\n",
       "      <td>northwest</td>\n",
       "      <td>21595.38229</td>\n",
       "    </tr>\n",
       "    <tr>\n",
       "      <th>2771</th>\n",
       "      <td>54</td>\n",
       "      <td>male</td>\n",
       "      <td>31.600</td>\n",
       "      <td>0</td>\n",
       "      <td>no</td>\n",
       "      <td>southwest</td>\n",
       "      <td>9850.43200</td>\n",
       "    </tr>\n",
       "  </tbody>\n",
       "</table>\n",
       "<p>2772 rows × 7 columns</p>\n",
       "</div>"
      ],
      "text/plain": [
       "      age     sex     bmi  children smoker     region      charges\n",
       "0      19  female  27.900         0    yes  southwest  16884.92400\n",
       "1      18    male  33.770         1     no  southeast   1725.55230\n",
       "2      28    male  33.000         3     no  southeast   4449.46200\n",
       "3      33    male  22.705         0     no  northwest  21984.47061\n",
       "4      32    male  28.880         0     no  northwest   3866.85520\n",
       "...   ...     ...     ...       ...    ...        ...          ...\n",
       "2767   47  female  45.320         1     no  southeast   8569.86180\n",
       "2768   21  female  34.600         0     no  southwest   2020.17700\n",
       "2769   19    male  26.030         1    yes  northwest  16450.89470\n",
       "2770   23    male  18.715         0     no  northwest  21595.38229\n",
       "2771   54    male  31.600         0     no  southwest   9850.43200\n",
       "\n",
       "[2772 rows x 7 columns]"
      ]
     },
     "execution_count": 2,
     "metadata": {},
     "output_type": "execute_result"
    }
   ],
   "source": [
    "import pandas as pd\n",
    "\n",
    "data_path = 'medical_insurance.csv'\n",
    "data = pd.read_csv(data_path)\n",
    "\n",
    "data\n"
   ]
  },
  {
   "cell_type": "markdown",
   "id": "f42ac24f-a014-4b5f-ab0e-fba9bca255ab",
   "metadata": {},
   "source": [
    "The dataset contains the following features:\n",
    "\n",
    "    age: The age of the individual.\n",
    "    sex: The gender of the individual (male or female).\n",
    "    bmi: Body Mass Index, which provides an understanding of body weight in relation to height.\n",
    "    children: The number of children/dependents covered by health insurance.\n",
    "    smoker: Whether the individual is a smoker or not.\n",
    "    region: The beneficiary's residential area in the US.\n",
    "    charges: The individual medical costs billed by health insurance.\n",
    "\n",
    "To make a prediction on insurance costs, we can train a machine learning model using these features. Before proceeding, we need to prepare the data. This may include converting categorical variables to numerical format, handling missing values if any, and splitting the data into a training set and a testing set.\n"
   ]
  },
  {
   "cell_type": "markdown",
   "id": "f67233e4-803a-4a7c-a001-70c32f4f3f0b",
   "metadata": {},
   "source": [
    "## Linear Regression"
   ]
  },
  {
   "cell_type": "markdown",
   "id": "ae3cb310-d822-450c-a439-93663e24067e",
   "metadata": {},
   "source": [
    "A good starting point could be to use linear regression due to its simplicity and interpretability, especially if you have no specific preference. Later on, we can explore more complex models like Random Forest or Gradient Boosting if necessary.\n",
    "\n",
    "Before training the model, we need to prepare the data. This includes:\n",
    "\n",
    "    Converting categorical variables into numeric format: We can use one-hot encoding to transform the categorical variables (sex, smoker, region) into a format that can be used to train the model.\n",
    "    Splitting the data: We'll separate the data into a training set and a testing set to evaluate our model's performance on data it hasn't seen during training.\n",
    "    Standardization: It's not strictly necessary for linear regression, but it can help with numerical stability and the interpretation of coefficients, especially if we decide to explore other models later on."
   ]
  },
  {
   "cell_type": "code",
   "execution_count": 10,
   "id": "9e5de1c2-12e1-47d6-8a69-46fcfbb55338",
   "metadata": {},
   "outputs": [
    {
     "data": {
      "text/plain": [
       "0.7465278904179782"
      ]
     },
     "execution_count": 10,
     "metadata": {},
     "output_type": "execute_result"
    }
   ],
   "source": [
    "from sklearn.preprocessing import StandardScaler\n",
    "from sklearn.preprocessing import OneHotEncoder\n",
    "from sklearn.compose import ColumnTransformer\n",
    "from sklearn.linear_model import LinearRegression\n",
    "from sklearn.pipeline import Pipeline\n",
    "from sklearn.model_selection import train_test_split\n",
    "\n",
    "\n",
    "# Re-defining the column identifiers and transformers for clarity in English\n",
    "numerical_cols = ['age', 'bmi', 'children']\n",
    "categorical_cols = ['sex', 'smoker', 'region']\n",
    "\n",
    "# Preprocessing for numerical and categorical columns\n",
    "numerical_transformer = StandardScaler()\n",
    "categorical_transformer = OneHotEncoder(handle_unknown='ignore')\n",
    "\n",
    "# Preprocessor\n",
    "preprocessor = ColumnTransformer(\n",
    "    transformers=[\n",
    "        ('num', numerical_transformer, numerical_cols),\n",
    "        ('cat', categorical_transformer, categorical_cols)\n",
    "    ])\n",
    "\n",
    "# Model\n",
    "model = LinearRegression()\n",
    "\n",
    "# Creating the pipeline\n",
    "pipeline = Pipeline(steps=[('preprocessor', preprocessor),\n",
    "                           ('model', model)])\n",
    "\n",
    "# Splitting the data into training and testing sets\n",
    "X = data.drop('charges', axis=1)\n",
    "y = data['charges']\n",
    "X_train, X_test, y_train, y_test = train_test_split(X, y, test_size=0.2, random_state=0)\n",
    "\n",
    "# Training the model\n",
    "pipeline.fit(X_train, y_train)\n",
    "\n",
    "# Evaluating the model\n",
    "score = pipeline.score(X_test, y_test)\n",
    "\n",
    "score\n"
   ]
  },
  {
   "cell_type": "markdown",
   "id": "9101d335-d1c0-4517-9a11-6e6c967af622",
   "metadata": {},
   "source": [
    "The linear regression model trained has achieved a coefficient of determination R2R2 of approximately 0.75 on the test set. This means the model can explain 75% of the variance in health insurance costs based on the provided features. It's a fairly good result for a first attempt, but there's always room to improve the model, for instance, by exploring more complex models or refining the data preprocessing."
   ]
  },
  {
   "cell_type": "markdown",
   "id": "11f2d794-df9e-4c89-ab3e-30700261c2e2",
   "metadata": {},
   "source": [
    "## Random Forest Regressor Model"
   ]
  },
  {
   "cell_type": "code",
   "execution_count": 11,
   "id": "815eed76-bf9a-429e-a177-da6e011e0602",
   "metadata": {},
   "outputs": [
    {
     "data": {
      "text/plain": [
       "(0.9616343700872745, 2391.1580012338836)"
      ]
     },
     "execution_count": 11,
     "metadata": {},
     "output_type": "execute_result"
    }
   ],
   "source": [
    "from sklearn.ensemble import RandomForestRegressor\n",
    "from sklearn.metrics import mean_squared_error\n",
    "from math import sqrt\n",
    "\n",
    "# Re-defining the preprocessor and creating a new model with Random Forest\n",
    "rf_model = RandomForestRegressor(n_estimators=100, random_state=0)\n",
    "\n",
    "# Creating a new pipeline for Random Forest\n",
    "rf_pipeline = Pipeline(steps=[('preprocessor', preprocessor),\n",
    "                              ('model', rf_model)])\n",
    "\n",
    "# Training the Random Forest model\n",
    "rf_pipeline.fit(X_train, y_train)\n",
    "\n",
    "# Evaluating the Random Forest model\n",
    "rf_score = rf_pipeline.score(X_test, y_test)\n",
    "rf_predictions = rf_pipeline.predict(X_test)\n",
    "rf_rmse = sqrt(mean_squared_error(y_test, rf_predictions))\n",
    "\n",
    "rf_score, rf_rmse\n"
   ]
  },
  {
   "cell_type": "markdown",
   "id": "ebd32c7a-c6f3-400e-b288-3e556b369c40",
   "metadata": {},
   "source": [
    "The Random Forest Regressor model achieved a coefficient of determination (R2R2) of approximately 0.96 on the test set, indicating a very high level of explanatory power for the variance in health insurance costs. Additionally, the model has a Root Mean Square Error (RMSE) of about 2391.16. This lower RMSE value compared to the expected insurance charges suggests that the model's predictions are quite accurate, with a relatively small average error magnitude.\n",
    "\n",
    "This model significantly outperforms the previous linear regression model, demonstrating the power of more complex ensemble methods like Random Forest for capturing non-linear relationships and interactions between features"
   ]
  },
  {
   "cell_type": "code",
   "execution_count": null,
   "id": "d48bcd46-cac0-40c8-9726-794599c9d0d4",
   "metadata": {},
   "outputs": [],
   "source": []
  }
 ],
 "metadata": {
  "kernelspec": {
   "display_name": "Python 3 (ipykernel)",
   "language": "python",
   "name": "python3"
  },
  "language_info": {
   "codemirror_mode": {
    "name": "ipython",
    "version": 3
   },
   "file_extension": ".py",
   "mimetype": "text/x-python",
   "name": "python",
   "nbconvert_exporter": "python",
   "pygments_lexer": "ipython3",
   "version": "3.11.4"
  }
 },
 "nbformat": 4,
 "nbformat_minor": 5
}
